{
 "cells": [
  {
   "cell_type": "markdown",
   "metadata": {},
   "source": [
    "**scikit-learn数据集和基本功能：**"
   ]
  },
  {
   "cell_type": "code",
   "execution_count": 4,
   "metadata": {},
   "outputs": [
    {
     "name": "stdout",
     "output_type": "stream",
     "text": [
      "(150, 4)\n"
     ]
    }
   ],
   "source": [
    "from sklearn.datasets import *\n",
    "iris = load_iris()\n",
    "print(iris.data.shape)"
   ]
  },
  {
   "cell_type": "code",
   "execution_count": null,
   "metadata": {},
   "outputs": [],
   "source": [
    "import matplotlib.pyplot as plt\n",
    "digits = load_digits()\n",
    "#著名的手写数字数据集。\n",
    "plt.matshow(digits.images[0])\n",
    "plt.show()"
   ]
  },
  {
   "cell_type": "markdown",
   "metadata": {},
   "source": [
    "**sklearn主要可以完成分类任务、回归任务、聚类任务、降维任务、模型选择和数据预处理**"
   ]
  },
  {
   "cell_type": "markdown",
   "metadata": {},
   "source": [
    "**无监督学习解决聚类问题：**"
   ]
  },
  {
   "cell_type": "markdown",
   "metadata": {},
   "source": [
    "**常用的距离测算法**\n",
    "- 欧氏距离\n",
    "- 曼哈顿距离\n",
    "- 马氏距离（数据的协方差距离）\n",
    "- 夹角余弦<br>\n",
    "`sklearn.cluster`库中有很多聚类算法函数。"
   ]
  },
  {
   "cell_type": "markdown",
   "metadata": {},
   "source": [
    "**无监督学习解决降维问题**\n",
    "- 数据可视化\n",
    "- 精简数据"
   ]
  },
  {
   "cell_type": "markdown",
   "metadata": {},
   "source": [
    "**k-means聚类算法**\n",
    "- 以$k$为参数，将对象分为$k$个簇，使簇内有较高的相似度，而簇间的相似度较低。\n",
    "- 随机选择$k$个点作为初始的聚类中心\n",
    "- 对于剩下的点，将其归入最近的簇\n",
    "- 对每个簇计算所有点的均值作为新的聚类中心"
   ]
  },
  {
   "cell_type": "markdown",
   "metadata": {},
   "source": [
    "**应用1：了解1999年各个省份我国的消费情况。**"
   ]
  },
  {
   "cell_type": "code",
   "execution_count": null,
   "metadata": {},
   "outputs": [],
   "source": [
    "import numpy as np\n",
    "from sklearn.cluster import KMeans\n",
    "#mooc没有给数据文件...?\n",
    "def loadData(filePath):\n",
    "    fr = open(filePath, 'r')\n",
    "    lines = fr.readlines()\n",
    "    retData = []\n",
    "    retCityName = []\n",
    "    for line in lines:\n",
    "        items = line.strip().split(',')\n",
    "        retCityName.append(line[0])\n",
    "        retData.append([float(items[i]) for i in range(1, len(items))])\n",
    "    return retData, retCityName\n",
    "\n",
    "if __name__ == '__main__':\n",
    "    data,cityname = loadData('city.txt')\n",
    "    km = KMeans(n_clusters=4)\n",
    "    label = km.fit_predict(data)\n",
    "    expenses = np.sum(km.cluster_centers_,axis=1)\n",
    "    CityCluster = [[],[],[],[]]\n",
    "    for i in range(len(cityname)):\n",
    "        CityCluster[label[i]].append(cityname[i])\n",
    "    for i in range(len(CityCluster)):\n",
    "        print(\"Expenses:$.2f\"%expenses[i])\n",
    "        print(CityCluster[i])"
   ]
  },
  {
   "cell_type": "markdown",
   "metadata": {},
   "source": [
    "**应用2：DBSCAN密度聚类学生上网时间分布**\n",
    "- 该算法将数据点分为三类：\n",
    "  - 边界点：邻域内点不超过`minpts`个\n",
    "  - 核心点：邻域内点超过了`minpts`个\n",
    "- 算法流程：\n",
    "  - 将所有点初始标记\n",
    "  - 删除噪声点\n",
    "  - 为距离在`eps`之内的所有核心点赋予一条边\n",
    "  - 每组联通的核心点形成一个簇\n",
    "  - 将每个边界点指派到一个与之关联的核心点的簇中。"
   ]
  },
  {
   "cell_type": "code",
   "execution_count": null,
   "metadata": {},
   "outputs": [],
   "source": [
    "import numpy as np\n",
    "import sklearn.cluster as skc\n",
    "from sklearn import metrics\n",
    "import matplotlib.pyplot as plt\n",
    "\n",
    "mac2id=dict()\n",
    "onlinetimes=[]\n",
    "f=open('data.txt','r')\n",
    "for line in f:\n",
    "    mac = line.split(',')[2]\n",
    "    onlinetime = int(line.split(',')[6])\n",
    "    starttime = int(line.split(',')[4].split(' '[1].split(':')[0]))\n",
    "    if mac not in mac2id:\n",
    "        mac2id[mac] = len(onlinetimes)\n",
    "        onlinetimes.append((starttime,onlinetime))\n",
    "    else:\n",
    "        onlinetimes[mac2id[mac]]=[(starttime,onlinetime)]\n",
    "    real_X = np.array(onlinetimes.reshape((-1,2)))\n",
    "    X = real_X[:,0:1]\n",
    "    \n",
    "    db=skc.DBSCAN(eps=0.01,min_samples=20).fit(X)\n",
    "    labels = db.labels_\n",
    "    \n",
    "    print('Labels:')\n",
    "    print(labels)\n",
    "    ratio = len(labels[labels[:]==-1])/len(labels)\n",
    "    print('Noise ratio: {%.2f}'%ratio)\n",
    "    \n",
    "    n_clusters_ = len(set(labels)) - (1 if -1 in labels else 0)\n",
    "    \n",
    "    print('Estimated number of clusters: %d' % n_clusters_)\n",
    "    print('Silhouette Coefficient: %0.3f'\\\n",
    "        % metrics.silhouette_score(X, labels, metric='euclidean'))\n",
    "    \n",
    "    for i in range(n_clusters_):\n",
    "        print('cluster ',i,':')\n",
    "        print(list(X[labels==i])).flatten()\n",
    "    \n",
    "    plt.hist(X,24)"
   ]
  }
 ],
 "metadata": {
  "kernelspec": {
   "display_name": "base",
   "language": "python",
   "name": "python3"
  },
  "language_info": {
   "codemirror_mode": {
    "name": "ipython",
    "version": 3
   },
   "file_extension": ".py",
   "mimetype": "text/x-python",
   "name": "python",
   "nbconvert_exporter": "python",
   "pygments_lexer": "ipython3",
   "version": "3.10.13"
  }
 },
 "nbformat": 4,
 "nbformat_minor": 2
}
